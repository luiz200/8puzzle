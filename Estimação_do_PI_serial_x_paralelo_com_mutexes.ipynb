{
  "nbformat": 4,
  "nbformat_minor": 0,
  "metadata": {
    "colab": {
      "provenance": [],
      "authorship_tag": "ABX9TyMpArSPihwSk5ExofpoqSh7",
      "include_colab_link": true
    },
    "kernelspec": {
      "name": "python3",
      "display_name": "Python 3"
    },
    "language_info": {
      "name": "python"
    }
  },
  "cells": [
    {
      "cell_type": "markdown",
      "metadata": {
        "id": "view-in-github",
        "colab_type": "text"
      },
      "source": [
        "<a href=\"https://colab.research.google.com/github/luiz200/8puzzle/blob/main/Estima%C3%A7%C3%A3o_do_PI_serial_x_paralelo_com_mutexes.ipynb\" target=\"_parent\"><img src=\"https://colab.research.google.com/assets/colab-badge.svg\" alt=\"Open In Colab\"/></a>"
      ]
    },
    {
      "cell_type": "markdown",
      "source": [
        "# Tópicos especiais em sistemas embarcados - 2023.2\n",
        "### Prof. Josenalde Barbosa de Oliveira - TADS@UFRN\n",
        "# Atividade 1: desenvolver código com paradigma paralelo para estimar o número PI\n",
        "Embora existam outras formas, para nosso objetivo o número PI pode ser aproximado pela série de N termos:\n",
        "\n",
        "![image.png](data:image/png;base64,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)\n",
        "\n",
        "Um exemplo de código SERIAL (ou com apenas 1 thread, a thread main) para resolver o problema é:\n",
        "\n",
        "```\n",
        "double factor = 1.0;\n",
        "double sum = 0.0;\n",
        "for (i = 0; i < n; i++, factor = -factor) {\n",
        "    sum += factor/(2i+1);\n",
        "}\n",
        "pi = 4.0sum;\n",
        "Uma ideia de paralelização, é dividir os N termos entre T threads. Vamos assumir que N é divisível por T para uma distribuição balanceada (load balance). Seja\n",
        "\n",
        ". Assim a thread(0) somará os termos na faixa\n",
        ". A thread(1) somará os próximos\n",
        " termos, na faixa\n",
        ". Ou seja, para a thread(q) a faixa será\n",
        ". Se\n",
        " é par, o termo é POSITIVO, em caso contrário, é NEGATIVO.\n",
        "\n",
        "Abaixo tem-se um exemplo de código com a variável SOMA compartilhada entre as T threads, sem controle à eventual seção crítica:\n",
        "\n",
        "void* calcPartialPI sum(void* rank) {\n",
        "    long my_rank = (long) rank; //typecast\n",
        "    double factor;\n",
        "    long long i;\n",
        "    long long my_n = n/T;\n",
        "    long long my_first i = my_n*my_rank;\n",
        "    long long my_last i = my_first_i + my_n;\n",
        "\n",
        "    if (my_first_i % 2 == 0) /* my first i is even */\n",
        "        factor = 1.0;\n",
        "    else /* my first i is odd */\n",
        "        factor = -1.0;\n",
        "\n",
        "    for (i = my_first_i; i < my_last_i; i++, factor = -factor) {\n",
        "            sum += factor/(2i+1);\n",
        "    }\n",
        "\n",
        "    return NULL;\n",
        "}\n",
        "\n",
        "```\n",
        "\n",
        "\n",
        "Pede-se:"
      ],
      "metadata": {
        "id": "IkqgAZDLEZuC"
      }
    },
    {
      "cell_type": "markdown",
      "source": [
        "# Configurações do meu notebook:\n",
        "## Processador Intel® Core™ i5-1135G quad-core com 2 threads por core"
      ],
      "metadata": {
        "id": "Zy0vcyjfJtd_"
      }
    },
    {
      "cell_type": "markdown",
      "source": [
        "a) PIparallel_1: Elaborar versão do código incluindo seção crítica controlada por MUTEX dentro do loop, tal como em: https://github.com/josenalde/parallel_programming_rtos/blob/main/src/pthread_count3s_mutex_1.cpp"
      ],
      "metadata": {
        "id": "3yOmiJ73GdYl"
      }
    },
    {
      "cell_type": "code",
      "source": [
        "#include <stdio.h>\n",
        "#include <stdlib.h>\n",
        "#include <pthread.h>\n",
        "\n",
        "#define NUM_THREADS 4 // Defina o número desejado de threads\n",
        "#define NUM_TERMS 1000000 // Número total de termos na série\n",
        "\n",
        "double soma = 0.0;\n",
        "pthread_mutex_t mutex_soma;\n",
        "\n",
        "void* calcularPIParcial(void* rank) {\n",
        "    long meu_rank = (long)rank;\n",
        "    double fator;\n",
        "    long long i;\n",
        "    long long meu_n = NUM_TERMS / NUM_THREADS;\n",
        "    long long meu_primeiro_i = meu_n * meu_rank;\n",
        "    long long meu_ultimo_i = meu_primeiro_i + meu_n;\n",
        "\n",
        "    if (meu_primeiro_i % 2 == 0)\n",
        "        fator = 1.0;\n",
        "    else\n",
        "        fator = -1.0;\n",
        "\n",
        "    for (i = meu_primeiro_i; i < meu_ultimo_i; i++, fator = -fator) {\n",
        "        double termo = fator / (2.0 * i + 1.0);\n",
        "\n",
        "        pthread_mutex_lock(&mutex_soma);\n",
        "        soma += termo;\n",
        "        pthread_mutex_unlock(&mutex_soma);\n",
        "    }\n",
        "\n",
        "    return NULL;\n",
        "}\n",
        "\n",
        "int main() {\n",
        "    pthread_t threads[NUM_THREADS];\n",
        "    pthread_mutex_init(&mutex_soma, NULL);\n",
        "\n",
        "    for (long rank_thread = 0; rank_thread < NUM_THREADS; rank_thread++) {\n",
        "        pthread_create(&threads[rank_thread], NULL, calcularPIParcial, (void*)rank_thread);\n",
        "    }\n",
        "\n",
        "    for (long rank_thread = 0; rank_thread < NUM_THREADS; rank_thread++) {\n",
        "        pthread_join(threads[rank_thread], NULL);\n",
        "    }\n",
        "\n",
        "    double pi = 4.0 * soma;\n",
        "    printf(\"Valor estimado de PI: %lf\\n\", pi);\n",
        "\n",
        "    pthread_mutex_destroy(&mutex_soma);\n",
        "    return 0;\n",
        "}"
      ],
      "metadata": {
        "id": "-jxHE0wKGhyn"
      },
      "execution_count": null,
      "outputs": []
    },
    {
      "cell_type": "markdown",
      "source": [],
      "metadata": {
        "id": "CTHNA73CEXAB"
      }
    },
    {
      "cell_type": "markdown",
      "source": [
        "b) PIparallel_2: Elaborar versão do código incluindo seção crítica controlada por MUTEX fora do loop, com variável privada da soma de contribuição de cada thread, tal como em: https://github.com/josenalde/parallel_programming_rtos/blob/main/src/pthread_count3s_mutex_3.cpp E na folha 7 do slide arquivo setopics4.pdf disponível no SIGAA da disciplina.                                ![image.png](data:image/png;base64,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)"
      ],
      "metadata": {
        "id": "2GldxZVbHW_N"
      }
    },
    {
      "cell_type": "code",
      "source": [
        "#include <stdio.h>\n",
        "#include <stdlib.h>\n",
        "#include <pthread.h>\n",
        "\n",
        "#define NUM_THREADS 4 // Defina o número desejado de threads\n",
        "#define NUM_TERMS 1000000 // Número total de termos na série\n",
        "\n",
        "double soma = 0.0;\n",
        "pthread_mutex_t mutex_soma;\n",
        "\n",
        "void* calcularPIParcial(void* rank) {\n",
        "    long meu_rank = (long)rank;\n",
        "    double fator;\n",
        "    long long i;\n",
        "    long long meu_n = NUM_TERMS / NUM_THREADS;\n",
        "    long long meu_primeiro_i = meu_n * meu_rank;\n",
        "    long long meu_ultimo_i = meu_primeiro_i + meu_n;\n",
        "    double minha_soma = 0.0;\n",
        "\n",
        "    if (meu_primeiro_i % 2 == 0)\n",
        "        fator = 1.0;\n",
        "    else\n",
        "        fator = -1.0;\n",
        "\n",
        "    for (i = meu_primeiro_i; i < meu_ultimo_i; i++, fator = -fator) {\n",
        "        minha_soma += fator / (2.0 * i + 1.0);\n",
        "    }\n",
        "\n",
        "    pthread_mutex_lock(&mutex_soma);\n",
        "    soma += minha_soma;\n",
        "    pthread_mutex_unlock(&mutex_soma);\n",
        "\n",
        "    return NULL;\n",
        "}\n",
        "\n",
        "int main() {\n",
        "    pthread_t threads[NUM_THREADS];\n",
        "    pthread_mutex_init(&mutex_soma, NULL);\n",
        "\n",
        "    for (long rank_thread = 0; rank_thread < NUM_THREADS; rank_thread++) {\n",
        "        pthread_create(&threads[rank_thread], NULL, calcularPIParcial, (void*)rank_thread);\n",
        "    }\n",
        "\n",
        "    for (long rank_thread = 0; rank_thread < NUM_THREADS; rank_thread++) {\n",
        "        pthread_join(threads[rank_thread], NULL);\n",
        "    }\n",
        "\n",
        "    double pi = 4.0 * soma;\n",
        "    printf(\"Valor estimado de PI: %lf\\n\", pi);\n",
        "\n",
        "    pthread_mutex_destroy(&mutex_soma);\n",
        "    return 0;\n",
        "}"
      ],
      "metadata": {
        "id": "8ahfGOO7Hc1G"
      },
      "execution_count": null,
      "outputs": []
    },
    {
      "cell_type": "markdown",
      "source": [
        "c) PIserial: Elaborar versão do código serial, sem paralelismo"
      ],
      "metadata": {
        "id": "_j0NIlHHITjc"
      }
    },
    {
      "cell_type": "code",
      "source": [
        "#include <stdio.h>\n",
        "\n",
        "#define NUM_TERMS 1000000 // Número total de termos na série\n",
        "\n",
        "int main() {\n",
        "    double sum = 0.0;\n",
        "    double factor = 1.0;\n",
        "\n",
        "    for (long long i = 0; i < NUM_TERMS; i++, factor = -factor) {\n",
        "        sum += factor / (2.0 * i + 1.0);\n",
        "    }\n",
        "\n",
        "    double pi = 4.0 * sum;\n",
        "    printf(\"Estimated value of PI: %lf\\n\", pi);\n",
        "\n",
        "    return 0;\n",
        "}\n"
      ],
      "metadata": {
        "id": "BiTBqPMoIbR-"
      },
      "execution_count": null,
      "outputs": []
    },
    {
      "cell_type": "markdown",
      "source": [
        "d) criar tabela comparativa das letras a) e b) para o caso de 1 thread por core e de 2 threads por core. Exemplo: se a CPU tem 4 cores e até 2 threads por core, fazer para T=4 e T=8. Se tem 08 cores, fazer para T=8 e T=16. Na tabela deixar claro qual a CPU em que está rodando a aplicação. Se for no replit, informar apenas o número de threads. Pode ser usado o método presente nos arquivos acima para calcular o tempo, usando clock() A tabela resumo deve ter aparência como neste exemplo, comparando o caso SERIAL com os dois casos PARALELOS: formatar número de saída com 12 casas decimais, com cout.precision(12) e na hora de exibir uma variável, suponha x, fazer cout << fixed << x;"
      ],
      "metadata": {
        "id": "yzZexnk5IheQ"
      }
    },
    {
      "cell_type": "markdown",
      "source": [],
      "metadata": {
        "id": "2tF-Y5c2Ipr0"
      }
    },
    {
      "cell_type": "code",
      "source": [
        "#include <iostream>\n",
        "#include <thread>\n",
        "#include <vector>\n",
        "#include <chrono>\n",
        "#include <iomanip>\n",
        "#include <mutex>\n",
        "\n",
        "const int NUM_TERMS = 1000000; // Número total de termos na série\n",
        "\n",
        "// Função para calcular PI de forma serial\n",
        "double calcularPISerial() {\n",
        "    double soma = 0.0;\n",
        "    double fator = 1.0;\n",
        "\n",
        "    for (long long i = 0; i < NUM_TERMS; i++, fator = -fator) {\n",
        "        soma += fator / (2.0 * i + 1.0);\n",
        "    }\n",
        "\n",
        "    return 4.0 * soma;\n",
        "}\n",
        "\n",
        "// Função para calcular PI de forma paralela com mutex\n",
        "double calcularPIParaleloComMutex(int numThreads) {\n",
        "    double soma = 0.0;\n",
        "    double fator = 1.0;\n",
        "    std::vector<std::thread> threads(numThreads);\n",
        "    std::mutex mtx;\n",
        "\n",
        "    auto start = std::chrono::high_resolution_clock::now();\n",
        "\n",
        "    for (int i = 0; i < numThreads; i++) {\n",
        "        threads[i] = std::thread([&soma, &fator, i, numThreads, &mtx]() {\n",
        "            long long my_n = NUM_TERMS / numThreads;\n",
        "            long long my_first_i = my_n * i;\n",
        "            long long my_last_i = my_first_i + my_n;\n",
        "            double my_sum = 0.0;\n",
        "\n",
        "            if (my_first_i % 2 == 0)\n",
        "                fator = 1.0;\n",
        "            else\n",
        "                fator = -1.0;\n",
        "\n",
        "            for (long long j = my_first_i; j < my_last_i; j++, fator = -fator) {\n",
        "                my_sum += fator / (2.0 * j + 1.0);\n",
        "            }\n",
        "\n",
        "            std::lock_guard<std::mutex> lock(mtx);\n",
        "            soma += my_sum;\n",
        "        });\n",
        "    }\n",
        "\n",
        "    for (int i = 0; i < numThreads; i++) {\n",
        "        threads[i].join();\n",
        "    }\n",
        "\n",
        "    auto end = std::chrono::high_resolution_clock::now();\n",
        "    std::chrono::duration<double> duracao = end - start;\n",
        "\n",
        "    return 4.0 * soma;\n",
        "}\n",
        "\n",
        "int main() {\n",
        "    std::cout << std::fixed << std::setprecision(12);\n",
        "\n",
        "    // Tabela de comparação\n",
        "    std::cout << \"Threads | Serial PI        | Paralelo (Mutex) PI | Tempo (s) (Média de 10 execuções)\" << std::endl;\n",
        "    std::cout << \"-----------------------------------------------------------\" << std::endl;\n",
        "\n",
        "    for (int numThreads : {1, 2, 4, 8, 16}) {\n",
        "        double piSerial = 0.0;\n",
        "        double piParalelo = 0.0;\n",
        "        double tempoTotal = 0.0;\n",
        "\n",
        "        for (int i = 0; i < 10; i++) {\n",
        "            auto inicioSerial = std::chrono::high_resolution_clock::now();\n",
        "            piSerial = calcularPISerial();\n",
        "            auto fimSerial = std::chrono::high_resolution_clock::now();\n",
        "            std::chrono::duration<double> duracaoSerial = fimSerial - inicioSerial;\n",
        "\n",
        "            auto inicioParalelo = std::chrono::high_resolution_clock::now();\n",
        "            piParalelo = calcularPIParaleloComMutex(numThreads);\n",
        "            auto fimParalelo = std::chrono::high_resolution_clock::now();\n",
        "            std::chrono::duration<double> duracaoParalelo = fimParalelo - inicioParalelo;\n",
        "\n",
        "            tempoTotal += duracaoParalelo.count();\n",
        "\n",
        "            if (i == 0) {\n",
        "                // Mostrar apenas a primeira execução para evitar saída excessiva\n",
        "                std::cout << std::setw(7) << numThreads << \" | \" << std::setw(17) << piSerial << \" | \" << std::setw(20) << piParalelo << \" | \" << std::setw(24) << duracaoParalelo.count() << std::endl;\n",
        "            }\n",
        "        }\n",
        "\n",
        "        std::cout << \"-----------------------------------------------------------\" << std::endl;\n",
        "        std::cout << \"Tempo Médio para \" << numThreads << \" Threads: \" << tempoTotal / 10.0 << \" segundos\" << std::endl;\n",
        "    }\n",
        "\n",
        "    return 0;\n",
        "}"
      ],
      "metadata": {
        "id": "r3JlcUtzItMC"
      },
      "execution_count": null,
      "outputs": []
    },
    {
      "cell_type": "markdown",
      "source": [
        " ./main\n",
        "Threads | Serial PI        | Paralelo (Mutex) PI | Tempo (s) (Média de 10 execuções)\n",
        "-----------------------------------------------------------\n",
        "      1 |    3.141591653590 |       3.141591653590 |           0.061475115000\n",
        "-----------------------------------------------------------\n",
        "Tempo Médio para 1 Threads: 0.015734217100 segundos\n",
        "      2 |    3.141591653590 |       3.141591653590 |           0.008074898000\n",
        "-----------------------------------------------------------\n",
        "Tempo Médio para 2 Threads: 0.003760784000 segundos\n",
        "      4 |    3.141591653590 |       3.141591653590 |           0.007479238000\n",
        "-----------------------------------------------------------\n",
        "Tempo Médio para 4 Threads: 0.007830697900 segundos\n",
        "      8 |    3.141591653590 |       3.141591653590 |           0.002885619000\n",
        "-----------------------------------------------------------\n",
        "Tempo Médio para 8 Threads: 0.008908811500 segundos\n",
        "     16 |    3.141591653590 |       3.141591653590 |           0.005086339000\n",
        "-----------------------------------------------------------\n",
        "Tempo Médio para 16 Threads: 0.015583011300 segundos"
      ],
      "metadata": {
        "id": "kHbjAk7wJk_f"
      }
    },
    {
      "cell_type": "markdown",
      "source": [
        "**By: Luiz Felipe Henrique de Souza**"
      ],
      "metadata": {
        "id": "VFKUOpCeKdV2"
      }
    }
  ]
}